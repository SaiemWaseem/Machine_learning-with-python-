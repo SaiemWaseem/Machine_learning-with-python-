{
 "cells": [
  {
   "cell_type": "code",
   "execution_count": 3,
   "metadata": {},
   "outputs": [
    {
     "name": "stdout",
     "output_type": "stream",
     "text": [
      "Best Parameter: {'fit_intercept': True}\n"
     ]
    }
   ],
   "source": [
    "# Ignore Warnings\n",
    "import warnings\n",
    "warnings.filterwarnings('ignore')\n",
    "\n",
    "# import libraries\n",
    "import numpy as np\n",
    "import pandas as pd\n",
    "import matplotlib.pyplot as plt\n",
    "import seaborn as sns\n",
    "\n",
    "df = sns.load_dataset('titanic')\n",
    "df['age']=df['age'].fillna(df['age'].mean())\n",
    "X = df[['age']]\n",
    "y = df['fare']\n",
    "\n",
    "from sklearn.linear_model import LinearRegression\n",
    "from sklearn.model_selection import GridSearchCV\n",
    "\n",
    "# Create a model\n",
    "model = LinearRegression()\n",
    "# define parameter grid \n",
    "param_grid = {'fit_intercept': [True, False]}\n",
    "\n",
    "# Best gridsearchCV\n",
    "grid_search = GridSearchCV(model, param_grid, cv=5, scoring='r2')\n",
    "\n",
    "# Training the model\n",
    "grid_search.fit(X,y)\n",
    "\n",
    "# print the best parameter\n",
    "print(\"Best Parameter:\", grid_search.best_params_)"
   ]
  },
  {
   "cell_type": "code",
   "execution_count": null,
   "metadata": {},
   "outputs": [],
   "source": []
  }
 ],
 "metadata": {
  "kernelspec": {
   "display_name": "Python 3",
   "language": "python",
   "name": "python3"
  },
  "language_info": {
   "codemirror_mode": {
    "name": "ipython",
    "version": 3
   },
   "file_extension": ".py",
   "mimetype": "text/x-python",
   "name": "python",
   "nbconvert_exporter": "python",
   "pygments_lexer": "ipython3",
   "version": "3.11.4"
  },
  "orig_nbformat": 4
 },
 "nbformat": 4,
 "nbformat_minor": 2
}
