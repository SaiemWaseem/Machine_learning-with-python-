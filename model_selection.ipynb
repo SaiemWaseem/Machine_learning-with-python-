{
 "cells": [
  {
   "cell_type": "markdown",
   "metadata": {},
   "source": [
    "## Best Model Selection"
   ]
  },
  {
   "cell_type": "code",
   "execution_count": 5,
   "metadata": {},
   "outputs": [
    {
     "name": "stdout",
     "output_type": "stream",
     "text": [
      "Accuracy Score: Random Forest : 0.83\n",
      "Accuracy Score: Logistic regression : 0.80\n",
      "Accuracy Score: Decision Tree : 0.79\n",
      "Accuracy Score: KNN : 0.75\n",
      "Accuracy Score: SVM : 0.72\n"
     ]
    }
   ],
   "source": [
    "# Ignore Warnings\n",
    "import warnings\n",
    "warnings.filterwarnings('ignore')\n",
    "\n",
    "# import libraries\n",
    "import numpy as np\n",
    "import pandas as pd\n",
    "import matplotlib.pyplot as plt\n",
    "import seaborn as sns\n",
    "\n",
    "df = sns.load_dataset('titanic')\n",
    "X = df[['pclass','sex','age','sibsp','parch','fare']]\n",
    "y = df['survived']\n",
    "X = pd.get_dummies(X, columns=['sex'])\n",
    "X.age.fillna(value=X['age'].mean(), inplace=True)\n",
    "\n",
    "\n",
    "from sklearn.linear_model import LogisticRegression\n",
    "from sklearn.svm import SVC\n",
    "from sklearn.tree import DecisionTreeClassifier\n",
    "from sklearn.ensemble import RandomForestClassifier\n",
    "from sklearn.neighbors import KNeighborsClassifier\n",
    "from sklearn.metrics import accuracy_score, f1_score, recall_score, precision_score\n",
    "from sklearn.model_selection import train_test_split\n",
    "\n",
    "X_train, X_test, y_train, y_test = train_test_split(X, y, test_size=0.2, random_state=0)\n",
    "\n",
    "models =[LogisticRegression(), SVC(), DecisionTreeClassifier(), RandomForestClassifier(),KNeighborsClassifier()]\n",
    "models_name = ['Logistic regression','SVM','Decision Tree','Random Forest','KNN']\n",
    "\n",
    "\n",
    "models_score =[]\n",
    "for model, model_name in zip(models, models_name):\n",
    "    model.fit(X_train, y_train)\n",
    "    y_pred = model.predict(X_test)\n",
    "    accuracy = accuracy_score(y_test, y_pred)\n",
    "    models_score.append([model_name, accuracy])\n",
    "\n",
    "sorted_models = sorted(models_score, key=lambda x:x[1], reverse=True)\n",
    "for model in sorted_models:\n",
    "    print(\"Accuracy Score:\", f'{model[0]} : {model[1]:.2f}')"
   ]
  },
  {
   "cell_type": "markdown",
   "metadata": {},
   "source": [
    "## Model selection with precison score "
   ]
  },
  {
   "cell_type": "code",
   "execution_count": 7,
   "metadata": {},
   "outputs": [
    {
     "name": "stdout",
     "output_type": "stream",
     "text": [
      "Precision Score: Logistic regression : 0.80\n",
      "Precision Score: Random Forest : 0.80\n",
      "Precision Score: SVM : 0.76\n",
      "Precision Score: Decision Tree : 0.74\n",
      "Precision Score: KNN : 0.66\n"
     ]
    }
   ],
   "source": [
    "# Ignore Warnings\n",
    "import warnings\n",
    "warnings.filterwarnings('ignore')\n",
    "\n",
    "# import libraries\n",
    "import numpy as np\n",
    "import pandas as pd\n",
    "import matplotlib.pyplot as plt\n",
    "import seaborn as sns\n",
    "\n",
    "df = sns.load_dataset('titanic')\n",
    "X = df[['pclass','sex','age','sibsp','parch','fare']]\n",
    "y = df['survived']\n",
    "X = pd.get_dummies(X, columns=['sex'])\n",
    "X.age.fillna(value=X['age'].mean(), inplace=True)\n",
    "\n",
    "\n",
    "from sklearn.linear_model import LogisticRegression\n",
    "from sklearn.svm import SVC\n",
    "from sklearn.tree import DecisionTreeClassifier\n",
    "from sklearn.ensemble import RandomForestClassifier\n",
    "from sklearn.neighbors import KNeighborsClassifier\n",
    "from sklearn.metrics import accuracy_score, f1_score, recall_score, precision_score\n",
    "from sklearn.model_selection import train_test_split\n",
    "\n",
    "X_train, X_test, y_train, y_test = train_test_split(X, y, test_size=0.2, random_state=42)\n",
    "\n",
    "models =[LogisticRegression(), SVC(), DecisionTreeClassifier(), RandomForestClassifier(),KNeighborsClassifier()]\n",
    "models_name = ['Logistic regression','SVM','Decision Tree','Random Forest','KNN']\n",
    "\n",
    "\n",
    "models_score =[]\n",
    "for model, model_name in zip(models, models_name):\n",
    "    model.fit(X_train, y_train)\n",
    "    y_pred = model.predict(X_test)\n",
    "    Precision = precision_score(y_test, y_pred)\n",
    "    models_score.append([model_name, Precision])\n",
    "\n",
    "sorted_models = sorted(models_score, key=lambda x:x[1], reverse=True)\n",
    "for model in sorted_models:\n",
    "    print(\"Precision Score:\", f'{model[0]} : {model[1]:.2f}')"
   ]
  },
  {
   "cell_type": "markdown",
   "metadata": {},
   "source": [
    "## Based on Recall Sacore"
   ]
  },
  {
   "cell_type": "code",
   "execution_count": 9,
   "metadata": {},
   "outputs": [
    {
     "name": "stdout",
     "output_type": "stream",
     "text": [
      "Recall Score: Random Forest : 0.73\n",
      "Recall Score: Logistic regression : 0.72\n",
      "Recall Score: Decision Tree : 0.69\n",
      "Recall Score: KNN : 0.54\n",
      "Recall Score: SVM : 0.26\n"
     ]
    }
   ],
   "source": [
    "# Ignore Warnings\n",
    "import warnings\n",
    "warnings.filterwarnings('ignore')\n",
    "\n",
    "# import libraries\n",
    "import numpy as np\n",
    "import pandas as pd\n",
    "import matplotlib.pyplot as plt\n",
    "import seaborn as sns\n",
    "\n",
    "df = sns.load_dataset('titanic')\n",
    "X = df[['pclass','sex','age','sibsp','parch','fare']]\n",
    "y = df['survived']\n",
    "X = pd.get_dummies(X, columns=['sex'])\n",
    "X.age.fillna(value=X['age'].mean(), inplace=True)\n",
    "\n",
    "\n",
    "from sklearn.linear_model import LogisticRegression\n",
    "from sklearn.svm import SVC\n",
    "from sklearn.tree import DecisionTreeClassifier\n",
    "from sklearn.ensemble import RandomForestClassifier\n",
    "from sklearn.neighbors import KNeighborsClassifier\n",
    "from sklearn.metrics import accuracy_score, f1_score, recall_score, precision_score\n",
    "from sklearn.model_selection import train_test_split\n",
    "\n",
    "X_train, X_test, y_train, y_test = train_test_split(X, y, test_size=0.2, random_state=42)\n",
    "\n",
    "models =[LogisticRegression(), SVC(), DecisionTreeClassifier(), RandomForestClassifier(),KNeighborsClassifier()]\n",
    "models_name = ['Logistic regression','SVM','Decision Tree','Random Forest','KNN']\n",
    "\n",
    "\n",
    "models_score =[]\n",
    "for model, model_name in zip(models, models_name):\n",
    "    model.fit(X_train, y_train)\n",
    "    y_pred = model.predict(X_test)\n",
    "    Recall = recall_score(y_test, y_pred)\n",
    "    models_score.append([model_name, Recall])\n",
    "\n",
    "sorted_models = sorted(models_score, key=lambda x:x[1], reverse=True)\n",
    "for model in sorted_models:\n",
    "    print(\"Recall Score:\", f'{model[0]} : {model[1]:.2f}')"
   ]
  },
  {
   "cell_type": "markdown",
   "metadata": {},
   "source": [
    "## Based on f1 Score"
   ]
  },
  {
   "cell_type": "code",
   "execution_count": 10,
   "metadata": {},
   "outputs": [
    {
     "name": "stdout",
     "output_type": "stream",
     "text": [
      "f1_Score: Random Forest : 0.74\n",
      "f1_Score: Logistic regression : 0.73\n",
      "f1_Score: Decision Tree : 0.70\n",
      "f1_Score: KNN : 0.67\n",
      "f1_Score: SVM : 0.50\n"
     ]
    }
   ],
   "source": [
    "# Ignore Warnings\n",
    "import warnings\n",
    "warnings.filterwarnings('ignore')\n",
    "\n",
    "# import libraries\n",
    "import numpy as np\n",
    "import pandas as pd\n",
    "import matplotlib.pyplot as plt\n",
    "import seaborn as sns\n",
    "\n",
    "df = sns.load_dataset('titanic')\n",
    "X = df[['pclass','sex','age','sibsp','parch','fare']]\n",
    "y = df['survived']\n",
    "X = pd.get_dummies(X, columns=['sex'])\n",
    "X.age.fillna(value=X['age'].mean(), inplace=True)\n",
    "\n",
    "\n",
    "from sklearn.linear_model import LogisticRegression\n",
    "from sklearn.svm import SVC\n",
    "from sklearn.tree import DecisionTreeClassifier\n",
    "from sklearn.ensemble import RandomForestClassifier\n",
    "from sklearn.neighbors import KNeighborsClassifier\n",
    "from sklearn.metrics import accuracy_score, f1_score, recall_score, precision_score\n",
    "from sklearn.model_selection import train_test_split\n",
    "\n",
    "X_train, X_test, y_train, y_test = train_test_split(X, y, test_size=0.2, random_state=0)\n",
    "\n",
    "models =[LogisticRegression(), SVC(), DecisionTreeClassifier(), RandomForestClassifier(),KNeighborsClassifier()]\n",
    "models_name = ['Logistic regression','SVM','Decision Tree','Random Forest','KNN']\n",
    "\n",
    "\n",
    "models_score =[]\n",
    "for model, model_name in zip(models, models_name):\n",
    "    model.fit(X_train, y_train)\n",
    "    y_pred = model.predict(X_test)\n",
    "    f1 = f1_score(y_test, y_pred)\n",
    "    models_score.append([model_name, f1])\n",
    "\n",
    "sorted_models = sorted(models_score, key=lambda x:x[1], reverse=True)\n",
    "for model in sorted_models:\n",
    "    print(\"f1_Score:\", f'{model[0]} : {model[1]:.2f}')"
   ]
  }
 ],
 "metadata": {
  "kernelspec": {
   "display_name": "Python 3",
   "language": "python",
   "name": "python3"
  },
  "language_info": {
   "codemirror_mode": {
    "name": "ipython",
    "version": 3
   },
   "file_extension": ".py",
   "mimetype": "text/x-python",
   "name": "python",
   "nbconvert_exporter": "python",
   "pygments_lexer": "ipython3",
   "version": "3.11.4"
  },
  "orig_nbformat": 4
 },
 "nbformat": 4,
 "nbformat_minor": 2
}
